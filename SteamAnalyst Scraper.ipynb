{
 "cells": [
  {
   "cell_type": "code",
   "execution_count": null,
   "metadata": {},
   "outputs": [],
   "source": [
    "## Installation requirements\n",
    "Please install the following packages through pip:\n",
    "\n",
    "```\n",
    "pip install lxml\n",
    "pip install selenium\n",
    "pip install cssselect\n",
    "```\n",
    "\n",
    "You also need a *current version of chromedriver; for setup instructions, see http://tilburgsciencehub.com/setup/webscraping_drivers/.\n",
    "\n",
    "**Only then will you be able to proceed to the next cells.**"
   ]
  },
  {
   "cell_type": "code",
   "execution_count": null,
   "metadata": {},
   "outputs": [],
   "source": [
    "## Load packages"
   ]
  },
  {
   "cell_type": "code",
   "execution_count": null,
   "metadata": {},
   "outputs": [],
   "source": [
    "# Load packages into memory\n",
    "import urllib3\n",
    "import datetime\n",
    "from lxml import etree \n",
    "from lxml.cssselect import CSSSelector\n",
    "from lxml.etree import fromstring\n",
    "\n",
    "from selenium import webdriver\n",
    "import time\n",
    "import codecs\n",
    "\n",
    "import re\n",
    "import os\n",
    "import requests\n",
    "import io\n",
    "import json\n",
    "from datetime import datetime\n",
    "from datetime import timedelta\n",
    "import pandas as pd\n",
    "import csv\n",
    "\n",
    "# Function to clean text from extra characters (e.g., new line characters, tabs)\n",
    "def cleanstring(obj):\n",
    "    return(re.sub(r\"[\\n\\t\\s]*\", \"\", obj))\n",
    "\n",
    "# Function to create a new directory if it does not exist yet\n",
    "def makedir(dirname):\n",
    "    try:\n",
    "        os.stat(dirname)\n",
    "    except:\n",
    "        os.mkdir(dirname)\n",
    "        \n",
    "# Function to generate filename based on time of the computer\n",
    "def timestamp_to_string(prefix='', extention='.html'):\n",
    "    return(prefix+str(time.time()).replace('.','-')+extention)\n"
   ]
  },
  {
   "cell_type": "code",
   "execution_count": null,
   "metadata": {},
   "outputs": [],
   "source": [
    "# Open browser"
   ]
  },
  {
   "cell_type": "code",
   "execution_count": null,
   "metadata": {},
   "outputs": [],
   "source": [
    "browser=webdriver.Chrome()"
   ]
  },
  {
   "cell_type": "code",
   "execution_count": null,
   "metadata": {},
   "outputs": [],
   "source": [
    "# Go to the website"
   ]
  },
  {
   "cell_type": "code",
   "execution_count": null,
   "metadata": {},
   "outputs": [],
   "source": [
    "browser.get('https://csgo.steamanalyst.com/markets#')"
   ]
  },
  {
   "cell_type": "code",
   "execution_count": null,
   "metadata": {
    "scrolled": true
   },
   "outputs": [],
   "source": [
    "# Parse content into list\n",
    "pageitems = (browser.find_element_by_css_selector(\"#pricelist\").text)\n",
    "linebyline = pageitems.split('\\n')\n",
    "result = []\n",
    "final_count= 0\n",
    "\n",
    "while 1==1:\n",
    "    time.sleep(3) # If your internet is slower then increase sleeptime\n",
    "    first_page_button = (browser.find_element_by_css_selector(\"#pricelist_paginate > ul > li:nth-child(2) > a\"))\n",
    "    next_button = (browser.find_element_by_css_selector(\"#pricelist_next > a\"))\n",
    "    for line in pageitems.split('\\n'):\n",
    "        item_prices = ','.join(list(reversed(list(reversed(line.split(' ')))[0:10]))).replace(\" \",\",\")\n",
    "        item_name = ' '.join(list(reversed(list(reversed(line.split(' ')))[10:1000])))\n",
    "        result.append([item_name, item_prices])\n",
    "    try: \n",
    "        next_button.click()\n",
    "    except:\n",
    "        time.sleep(1)\n",
    "        final_count +=1\n",
    "        if final_count > 20:\n",
    "            mydate = datetime.now()\n",
    "            csvstr = datetime.strftime(mydate, '%Y,%m,%d,%H,%M,%S')\n",
    "            df = pd.DataFrame(result)\n",
    "            df.to_csv(csvstr+\".csv\", index=False,encoding=\"utf-16\")\n",
    "            first_page_button.click()\n",
    "            final_count=0\n",
    "            continue\n",
    "        else:\n",
    "            continue\n",
    "\n",
    "           \n"
   ]
  }
 ],
 "metadata": {
  "kernelspec": {
   "display_name": "Python 3",
   "language": "python",
   "name": "python3"
  },
  "language_info": {
   "codemirror_mode": {
    "name": "ipython",
    "version": 3
   },
   "file_extension": ".py",
   "mimetype": "text/x-python",
   "name": "python",
   "nbconvert_exporter": "python",
   "pygments_lexer": "ipython3",
   "version": "3.7.6"
  }
 },
 "nbformat": 4,
 "nbformat_minor": 4
}
